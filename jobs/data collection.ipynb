{
 "cells": [
  {
   "cell_type": "code",
   "execution_count": 7,
   "id": "fa645c85",
   "metadata": {},
   "outputs": [],
   "source": [
    "import pandas as pd \n",
    "import requests\n",
    "import re\n",
    "from time import sleep"
   ]
  },
  {
   "cell_type": "code",
   "execution_count": 2,
   "id": "3be08002",
   "metadata": {},
   "outputs": [],
   "source": [
    "base_url = 'https://www.techinasia.com/api/2.0/job-postings'\n",
    "headers = {'User-Agent': 'Mozilla/5.0 (Windows NT 10.0; Win64; x64) AppleWebKit/537.36 (KHTML, like Gecko) Chrome/98.0.4758.102 Safari/537.36'}\n",
    "params = '?page='"
   ]
  },
  {
   "cell_type": "code",
   "execution_count": 3,
   "id": "87f0a8b9",
   "metadata": {},
   "outputs": [
    {
     "data": {
      "text/plain": [
       "dict_keys(['data', 'current_page', 'from', 'last_page', 'next_page_url', 'per_page', 'prev_page_url', 'to', 'total', 'after', 'before'])"
      ]
     },
     "execution_count": 3,
     "metadata": {},
     "output_type": "execute_result"
    }
   ],
   "source": [
    "base_req = requests.get(url=base_url, params=params, headers=headers)\n",
    "base_json = base_req.json()\n",
    "base_json.keys()"
   ]
  },
  {
   "cell_type": "code",
   "execution_count": 4,
   "id": "583ffd44",
   "metadata": {
    "scrolled": true
   },
   "outputs": [
    {
     "data": {
      "text/plain": [
       "dict_keys(['id', 'status', 'title', 'is_remote', 'is_salary_visible', 'salary_min', 'salary_max', 'has_equity', 'vacancy_count', 'experience_min', 'experience_max', 'description', 'external_link', 'published_at', 'updated_at', 'expires_at', 'is_featured', 'is_saved', 'is_using_paid_quota', 'saved_job_id', 'applied_job_id', 'application_status', 'city', 'company', 'contacts', 'currency', 'job_skills', 'job_type', 'position', 'taxonomies'])"
      ]
     },
     "execution_count": 4,
     "metadata": {},
     "output_type": "execute_result"
    }
   ],
   "source": [
    "base_json['data'][0].keys()"
   ]
  },
  {
   "cell_type": "code",
   "execution_count": 5,
   "id": "76ec2550",
   "metadata": {},
   "outputs": [],
   "source": [
    "def clean_tags(text):\n",
    "    '''\n",
    "    Clean html tags in content.\n",
    "    ---------------------------\n",
    "    Parameter:\n",
    "    text(str): input text containing html.\n",
    "    ---------------------------\n",
    "    Return:\n",
    "    clean_text\n",
    "    '''\n",
    "    pattern = re.compile('<.*?>')\n",
    "    clean_text = re.sub(pattern, '', text)\n",
    "    return clean_text\n",
    "\n",
    "def get_jobs(url, params, headers):\n",
    "    '''\n",
    "    Get jobs data from API\n",
    "    ---------------------------\n",
    "    Parameters:\n",
    "    url(str): input url to get data.\n",
    "    params(str): page parameter for pagination.\n",
    "    headers(*args): headers to avoid 418 teapot.\n",
    "    ---------------------------\n",
    "    Return:\n",
    "    pandas DataFrame\n",
    "    '''\n",
    "    all_data = []\n",
    "\n",
    "    for page in range(1, base_json['last_page']):\n",
    "        req = requests.get(url=base_url + params + str(page), headers=headers)\n",
    "        json = req.json()\n",
    "        print(f\"Page: {page}/135\", end='\\r')\n",
    "\n",
    "        for idx, job in enumerate(json['data']):\n",
    "            data = {\n",
    "                'id': job['id'],\n",
    "                'title': job['title'],\n",
    "                'is_remote': job['is_remote'],\n",
    "                'salary_min': job['salary_min'],\n",
    "                'salary_max': job['salary_max'],\n",
    "                'has_equity': job['has_equity'],\n",
    "                'experience_min': job['experience_min'],\n",
    "                'experience_max': job['experience_max'],\n",
    "                'description': clean_tags(job['description']),\n",
    "                'city': json['data'][idx]['city']['name'],\n",
    "                'company_name': json['data'][idx]['company']['name'],\n",
    "                'currency': json['data'][idx]['currency']['currency_code'],\n",
    "                'skills': [skill['name'] for skill in json['data'][idx]['job_skills']],\n",
    "                'job_type': json['data'][idx]['job_type']['name'],\n",
    "                'position': json['data'][idx]['position']['name']\n",
    "            }\n",
    "            all_data.append(data)\n",
    "        sleep(3)\n",
    "    return pd.DataFrame(all_data)"
   ]
  },
  {
   "cell_type": "code",
   "execution_count": 8,
   "id": "ca675cdf",
   "metadata": {},
   "outputs": [
    {
     "name": "stdout",
     "output_type": "stream",
     "text": [
      "Page: 134/135\r"
     ]
    },
    {
     "data": {
      "text/html": [
       "<div>\n",
       "<style scoped>\n",
       "    .dataframe tbody tr th:only-of-type {\n",
       "        vertical-align: middle;\n",
       "    }\n",
       "\n",
       "    .dataframe tbody tr th {\n",
       "        vertical-align: top;\n",
       "    }\n",
       "\n",
       "    .dataframe thead th {\n",
       "        text-align: right;\n",
       "    }\n",
       "</style>\n",
       "<table border=\"1\" class=\"dataframe\">\n",
       "  <thead>\n",
       "    <tr style=\"text-align: right;\">\n",
       "      <th></th>\n",
       "      <th>id</th>\n",
       "      <th>title</th>\n",
       "      <th>is_remote</th>\n",
       "      <th>salary_min</th>\n",
       "      <th>salary_max</th>\n",
       "      <th>has_equity</th>\n",
       "      <th>experience_min</th>\n",
       "      <th>experience_max</th>\n",
       "      <th>description</th>\n",
       "      <th>city</th>\n",
       "      <th>company_name</th>\n",
       "      <th>currency</th>\n",
       "      <th>skills</th>\n",
       "      <th>job_type</th>\n",
       "      <th>position</th>\n",
       "    </tr>\n",
       "  </thead>\n",
       "  <tbody>\n",
       "    <tr>\n",
       "      <th>3345</th>\n",
       "      <td>0f09879b-de42-4f6d-b757-9fe3a663f1cc</td>\n",
       "      <td>Account Manager</td>\n",
       "      <td>False</td>\n",
       "      <td>8000000</td>\n",
       "      <td>17000000</td>\n",
       "      <td>False</td>\n",
       "      <td>1</td>\n",
       "      <td>4</td>\n",
       "      <td>Responsibilities:\\nIdentify and source new bus...</td>\n",
       "      <td>Jakarta</td>\n",
       "      <td>PT. ASLI Rancangan Indonesia</td>\n",
       "      <td>IDR</td>\n",
       "      <td>[Account Management, Customer Acquisition, Sal...</td>\n",
       "      <td>Full-time</td>\n",
       "      <td>Sales &amp; Business Development</td>\n",
       "    </tr>\n",
       "    <tr>\n",
       "      <th>3346</th>\n",
       "      <td>400b5cc9-d924-4dac-bb1c-5e618fdf317a</td>\n",
       "      <td>DevOps</td>\n",
       "      <td>False</td>\n",
       "      <td>6000000</td>\n",
       "      <td>7500000</td>\n",
       "      <td>False</td>\n",
       "      <td>1</td>\n",
       "      <td>4</td>\n",
       "      <td>Job Descriptions \\nManage infrastructure use C...</td>\n",
       "      <td>Sidoarjo</td>\n",
       "      <td>PT Bimasakti Multi Sinergi</td>\n",
       "      <td>IDR</td>\n",
       "      <td>[Linux, Windows XP, DevOps, Information Techno...</td>\n",
       "      <td>Full-time</td>\n",
       "      <td>DevOps &amp; Cloud Management</td>\n",
       "    </tr>\n",
       "    <tr>\n",
       "      <th>3347</th>\n",
       "      <td>5f24795c-c1b0-4170-818d-ae3a46710e5a</td>\n",
       "      <td>Business Manager</td>\n",
       "      <td>False</td>\n",
       "      <td>0</td>\n",
       "      <td>0</td>\n",
       "      <td>False</td>\n",
       "      <td>4</td>\n",
       "      <td>7</td>\n",
       "      <td>Job Description:\\nSeek &amp;amp; Assess New Busine...</td>\n",
       "      <td>Jakarta</td>\n",
       "      <td>Aruna</td>\n",
       "      <td>IDR</td>\n",
       "      <td>[Business Development &amp; Partnerships, Business...</td>\n",
       "      <td>Full-time</td>\n",
       "      <td>Sales &amp; Business Development</td>\n",
       "    </tr>\n",
       "    <tr>\n",
       "      <th>3348</th>\n",
       "      <td>103c30a7-d39e-4d98-a68e-adb48ebc7b44</td>\n",
       "      <td>Content Marketing Specialist</td>\n",
       "      <td>True</td>\n",
       "      <td>0</td>\n",
       "      <td>0</td>\n",
       "      <td>True</td>\n",
       "      <td>1</td>\n",
       "      <td>4</td>\n",
       "      <td>RESPONSIBILITIES\\nPlan and execute a series of...</td>\n",
       "      <td>Jakarta</td>\n",
       "      <td>PT Lingkaran Edukasi Kreatif</td>\n",
       "      <td>IDR</td>\n",
       "      <td>[Sales &amp; Marketing, Digital Marketing, Marketi...</td>\n",
       "      <td>Full-time</td>\n",
       "      <td>Marketing &amp; PR</td>\n",
       "    </tr>\n",
       "    <tr>\n",
       "      <th>3349</th>\n",
       "      <td>71227dfb-d2f2-4540-8184-b5cf69740c08</td>\n",
       "      <td>React Native Developer</td>\n",
       "      <td>False</td>\n",
       "      <td>20000000</td>\n",
       "      <td>50000000</td>\n",
       "      <td>False</td>\n",
       "      <td>7</td>\n",
       "      <td>10</td>\n",
       "      <td>WE ARE HIRING!\\nWho are we looking for?\\nSpeed...</td>\n",
       "      <td>Denpasar, Bali</td>\n",
       "      <td>Speedoc</td>\n",
       "      <td>IDR</td>\n",
       "      <td>[React.js, Mobile Application Development, Ama...</td>\n",
       "      <td>Full-time</td>\n",
       "      <td>Enterprise Software &amp; Systems</td>\n",
       "    </tr>\n",
       "  </tbody>\n",
       "</table>\n",
       "</div>"
      ],
      "text/plain": [
       "                                        id                         title  \\\n",
       "3345  0f09879b-de42-4f6d-b757-9fe3a663f1cc               Account Manager   \n",
       "3346  400b5cc9-d924-4dac-bb1c-5e618fdf317a                        DevOps   \n",
       "3347  5f24795c-c1b0-4170-818d-ae3a46710e5a              Business Manager   \n",
       "3348  103c30a7-d39e-4d98-a68e-adb48ebc7b44  Content Marketing Specialist   \n",
       "3349  71227dfb-d2f2-4540-8184-b5cf69740c08        React Native Developer   \n",
       "\n",
       "      is_remote  salary_min  salary_max  has_equity  experience_min  \\\n",
       "3345      False     8000000    17000000       False               1   \n",
       "3346      False     6000000     7500000       False               1   \n",
       "3347      False           0           0       False               4   \n",
       "3348       True           0           0        True               1   \n",
       "3349      False    20000000    50000000       False               7   \n",
       "\n",
       "      experience_max                                        description  \\\n",
       "3345               4  Responsibilities:\\nIdentify and source new bus...   \n",
       "3346               4  Job Descriptions \\nManage infrastructure use C...   \n",
       "3347               7  Job Description:\\nSeek &amp; Assess New Busine...   \n",
       "3348               4  RESPONSIBILITIES\\nPlan and execute a series of...   \n",
       "3349              10  WE ARE HIRING!\\nWho are we looking for?\\nSpeed...   \n",
       "\n",
       "                city                  company_name currency  \\\n",
       "3345         Jakarta  PT. ASLI Rancangan Indonesia      IDR   \n",
       "3346        Sidoarjo    PT Bimasakti Multi Sinergi      IDR   \n",
       "3347         Jakarta                         Aruna      IDR   \n",
       "3348         Jakarta  PT Lingkaran Edukasi Kreatif      IDR   \n",
       "3349  Denpasar, Bali                       Speedoc      IDR   \n",
       "\n",
       "                                                 skills   job_type  \\\n",
       "3345  [Account Management, Customer Acquisition, Sal...  Full-time   \n",
       "3346  [Linux, Windows XP, DevOps, Information Techno...  Full-time   \n",
       "3347  [Business Development & Partnerships, Business...  Full-time   \n",
       "3348  [Sales & Marketing, Digital Marketing, Marketi...  Full-time   \n",
       "3349  [React.js, Mobile Application Development, Ama...  Full-time   \n",
       "\n",
       "                           position  \n",
       "3345   Sales & Business Development  \n",
       "3346      DevOps & Cloud Management  \n",
       "3347   Sales & Business Development  \n",
       "3348                 Marketing & PR  \n",
       "3349  Enterprise Software & Systems  "
      ]
     },
     "execution_count": 8,
     "metadata": {},
     "output_type": "execute_result"
    }
   ],
   "source": [
    "df = get_jobs(url=base_url, params=params, headers=headers)\n",
    "df.tail()"
   ]
  },
  {
   "cell_type": "code",
   "execution_count": 9,
   "id": "a3af390f",
   "metadata": {},
   "outputs": [],
   "source": [
    "df.to_csv('tia_jobs.csv', index=False)"
   ]
  }
 ],
 "metadata": {
  "kernelspec": {
   "display_name": "Python [conda env:jcopdl]",
   "language": "python",
   "name": "conda-env-jcopdl-py"
  },
  "language_info": {
   "codemirror_mode": {
    "name": "ipython",
    "version": 3
   },
   "file_extension": ".py",
   "mimetype": "text/x-python",
   "name": "python",
   "nbconvert_exporter": "python",
   "pygments_lexer": "ipython3",
   "version": "3.7.6"
  },
  "varInspector": {
   "cols": {
    "lenName": 16,
    "lenType": 16,
    "lenVar": 40
   },
   "kernels_config": {
    "python": {
     "delete_cmd_postfix": "",
     "delete_cmd_prefix": "del ",
     "library": "var_list.py",
     "varRefreshCmd": "print(var_dic_list())"
    },
    "r": {
     "delete_cmd_postfix": ") ",
     "delete_cmd_prefix": "rm(",
     "library": "var_list.r",
     "varRefreshCmd": "cat(var_dic_list()) "
    }
   },
   "types_to_exclude": [
    "module",
    "function",
    "builtin_function_or_method",
    "instance",
    "_Feature"
   ],
   "window_display": false
  }
 },
 "nbformat": 4,
 "nbformat_minor": 5
}
