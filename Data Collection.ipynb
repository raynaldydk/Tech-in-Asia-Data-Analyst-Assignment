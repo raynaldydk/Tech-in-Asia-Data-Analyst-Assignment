{
 "cells": [
  {
   "cell_type": "code",
   "execution_count": 1,
   "id": "99d00bc8",
   "metadata": {},
   "outputs": [],
   "source": [
    "import requests\n",
    "import pandas as pd\n",
    "import re\n",
    "from time import sleep"
   ]
  },
  {
   "cell_type": "code",
   "execution_count": 2,
   "id": "47198ea8",
   "metadata": {},
   "outputs": [],
   "source": [
    "base_url = 'https://www.techinasia.com/wp-json/techinasia/2.0/posts?'\n",
    "headers = {'User-Agent': 'Mozilla/5.0 (Windows NT 10.0; Win64; x64) AppleWebKit/537.36 (KHTML, like Gecko) Chrome/98.0.4758.102 Safari/537.36'}\n",
    "params = 'page='"
   ]
  },
  {
   "cell_type": "code",
   "execution_count": 3,
   "id": "52701bc0",
   "metadata": {},
   "outputs": [
    {
     "data": {
      "text/plain": [
       "dict_keys(['total', 'per_page', 'current_page', 'total_pages', 'posts'])"
      ]
     },
     "execution_count": 3,
     "metadata": {},
     "output_type": "execute_result"
    }
   ],
   "source": [
    "main_req = requests.get(url=base_url, headers=headers)\n",
    "main_json = main_req.json()\n",
    "main_json.keys()"
   ]
  },
  {
   "cell_type": "code",
   "execution_count": 4,
   "id": "ca946a2a",
   "metadata": {
    "scrolled": false
   },
   "outputs": [
    {
     "data": {
      "text/plain": [
       "dict_keys(['id', 'date_gmt', 'modified_gmt', 'title', 'slug', 'status', 'type', 'link', 'content', 'vsitems', 'live_items', 'excerpt', 'author', 'editor', 'comment_status', 'comments_count', 'comments', 'featured_image', 'post_images', 'seo', 'categories', 'tags', 'companies', 'is_sponsored', 'sponsor', 'is_partnership', 'external_scripts', 'show_ads', 'is_subscriber_exclusive', 'is_paywalled', 'is_inappbrowser', 'read_time'])"
      ]
     },
     "execution_count": 4,
     "metadata": {},
     "output_type": "execute_result"
    }
   ],
   "source": [
    "main_json['posts'][0].keys()"
   ]
  },
  {
   "cell_type": "code",
   "execution_count": 5,
   "id": "2f20c35a",
   "metadata": {},
   "outputs": [],
   "source": [
    "def clean_tags(text):\n",
    "    '''\n",
    "    Clean html tags in content.\n",
    "    ---------------------------\n",
    "    Parameter:\n",
    "    text(str): input text containing html.\n",
    "    ---------------------------\n",
    "    Return:\n",
    "    clean_text\n",
    "    '''\n",
    "    pattern = re.compile('<.*?>')\n",
    "    clean_text = re.sub(pattern, '', text).replace('\\n', '').replace('\\xa0', '')\n",
    "    return clean_text"
   ]
  },
  {
   "cell_type": "code",
   "execution_count": 6,
   "id": "76fa0776",
   "metadata": {
    "scrolled": true
   },
   "outputs": [],
   "source": [
    "def get_data(url, params, headers):\n",
    "    '''\n",
    "    Get data from API\n",
    "    ---------------------------\n",
    "    Parameters:\n",
    "    url(str): input url to get data.\n",
    "    params(str): page parameter for pagination.\n",
    "    headers(*args): headers to avoid 418 teapot.\n",
    "    ---------------------------\n",
    "    Return:\n",
    "    pandas DataFrame\n",
    "    '''\n",
    "    all_data = []\n",
    "\n",
    "    for page in range(1, 31):\n",
    "        print(f\"Page: {page}/30\", end='\\r')\n",
    "        req = requests.get(url=url + params + str(page), headers=headers)\n",
    "        json = req.json()\n",
    "\n",
    "        for idx, post in enumerate(json['posts']):\n",
    "            data = {\n",
    "                'id': post['id'],\n",
    "                'date_gmt': post['date_gmt'],\n",
    "                'modified_gmt': post['modified_gmt'],\n",
    "                'title': post['title'],\n",
    "                'slug': post['slug'],\n",
    "                'status': post['status'],\n",
    "                'type': post['type'],\n",
    "                'link': post['link'],\n",
    "                'content': clean_tags(json['posts'][idx]['content']),\n",
    "                'vsitems': post['vsitems'],\n",
    "                'live_items': post['live_items'],\n",
    "                'excerpt': post['excerpt'],\n",
    "                'author_id': post['author']['id'],\n",
    "                'author_name': post['author']['display_name'],\n",
    "                'author_is_staff': post['author']['is_staff'],\n",
    "                'editor': post['editor'].replace('Editing by ', ''),\n",
    "                'comment_status': post['comment_status'],\n",
    "                'comments_count': post['comments_count'],\n",
    "                'comments': post['comments'],\n",
    "                'categories': [cat['name'] for cat in json['posts'][idx]['categories']],\n",
    "                'tags': [tag['name'] for tag in json['posts'][idx]['tags']],\n",
    "                'companies': post['companies'],\n",
    "                'is_sponsored': post['is_sponsored'],\n",
    "                'sponsor_name': post['sponsor']['name'],\n",
    "                'is_partnership': post['is_partnership'],\n",
    "                'show_ads': post['show_ads'],\n",
    "                'is_subscriber_exclusive': post['is_subscriber_exclusive'],\n",
    "                'is_paywalled': post['is_paywalled'],\n",
    "                'is_inappbrowser': post['is_inappbrowser'],\n",
    "                'read_time': post['read_time']\n",
    "            }\n",
    "            all_data.append(data)\n",
    "        sleep(3)        \n",
    "    return pd.DataFrame(all_data)"
   ]
  },
  {
   "cell_type": "code",
   "execution_count": 7,
   "id": "b99c283e",
   "metadata": {
    "scrolled": true
   },
   "outputs": [
    {
     "name": "stdout",
     "output_type": "stream",
     "text": [
      "Page: 30/30\r"
     ]
    },
    {
     "data": {
      "text/html": [
       "<div>\n",
       "<style scoped>\n",
       "    .dataframe tbody tr th:only-of-type {\n",
       "        vertical-align: middle;\n",
       "    }\n",
       "\n",
       "    .dataframe tbody tr th {\n",
       "        vertical-align: top;\n",
       "    }\n",
       "\n",
       "    .dataframe thead th {\n",
       "        text-align: right;\n",
       "    }\n",
       "</style>\n",
       "<table border=\"1\" class=\"dataframe\">\n",
       "  <thead>\n",
       "    <tr style=\"text-align: right;\">\n",
       "      <th></th>\n",
       "      <th>id</th>\n",
       "      <th>date_gmt</th>\n",
       "      <th>modified_gmt</th>\n",
       "      <th>title</th>\n",
       "      <th>slug</th>\n",
       "      <th>status</th>\n",
       "      <th>type</th>\n",
       "      <th>link</th>\n",
       "      <th>content</th>\n",
       "      <th>vsitems</th>\n",
       "      <th>...</th>\n",
       "      <th>tags</th>\n",
       "      <th>companies</th>\n",
       "      <th>is_sponsored</th>\n",
       "      <th>sponsor_name</th>\n",
       "      <th>is_partnership</th>\n",
       "      <th>show_ads</th>\n",
       "      <th>is_subscriber_exclusive</th>\n",
       "      <th>is_paywalled</th>\n",
       "      <th>is_inappbrowser</th>\n",
       "      <th>read_time</th>\n",
       "    </tr>\n",
       "  </thead>\n",
       "  <tbody>\n",
       "    <tr>\n",
       "      <th>895</th>\n",
       "      <td>724749</td>\n",
       "      <td>2021-12-14T05:19:21</td>\n",
       "      <td>2021-12-14T05:19:21</td>\n",
       "      <td>Fomo Pay to join DBS Bank’s crypto exchange</td>\n",
       "      <td>sg-fintech-firm-fomo-pay-joins-dbs-banks-crypt...</td>\n",
       "      <td>publish</td>\n",
       "      <td>post</td>\n",
       "      <td>https://www.techinasia.com/sg-fintech-firm-fom...</td>\n",
       "      <td>Singapore-based payment firm Fomo Pay is joini...</td>\n",
       "      <td>[]</td>\n",
       "      <td>...</td>\n",
       "      <td>[crypto currency, crypto exchange, DBS, dbs ba...</td>\n",
       "      <td>[]</td>\n",
       "      <td>False</td>\n",
       "      <td>None</td>\n",
       "      <td>False</td>\n",
       "      <td>True</td>\n",
       "      <td>False</td>\n",
       "      <td>True</td>\n",
       "      <td>False</td>\n",
       "      <td>1</td>\n",
       "    </tr>\n",
       "    <tr>\n",
       "      <th>896</th>\n",
       "      <td>724745</td>\n",
       "      <td>2021-12-14T05:05:48</td>\n",
       "      <td>2021-12-15T11:10:42</td>\n",
       "      <td>Carousell HK, Atome, GoGoX join hands to serve...</td>\n",
       "      <td>carousell-gogox-atome-join-hands-caroubiz</td>\n",
       "      <td>publish</td>\n",
       "      <td>post</td>\n",
       "      <td>https://www.techinasia.com/carousell-gogox-ato...</td>\n",
       "      <td>The Hong Kong unit of Carousell, the Singapore...</td>\n",
       "      <td>[]</td>\n",
       "      <td>...</td>\n",
       "      <td>[Atome, BNPL, CarouBiz, Carousell, Ecommerce, ...</td>\n",
       "      <td>[]</td>\n",
       "      <td>False</td>\n",
       "      <td>None</td>\n",
       "      <td>False</td>\n",
       "      <td>True</td>\n",
       "      <td>False</td>\n",
       "      <td>True</td>\n",
       "      <td>False</td>\n",
       "      <td>1</td>\n",
       "    </tr>\n",
       "    <tr>\n",
       "      <th>897</th>\n",
       "      <td>724633</td>\n",
       "      <td>2021-12-14T05:00:48</td>\n",
       "      <td>2021-12-13T12:54:19</td>\n",
       "      <td>The hidden alliances between SEA’s VCs, uncove...</td>\n",
       "      <td>hidden-alliances-seas-vcs-uncovered-2021-edition</td>\n",
       "      <td>publish</td>\n",
       "      <td>visual-story</td>\n",
       "      <td>https://www.techinasia.com/visual-story/hidden...</td>\n",
       "      <td>You can view the actual number of co-investmen...</td>\n",
       "      <td>[&lt;p&gt;&lt;iframe style=\"width: 100%; height: 1350px...</td>\n",
       "      <td>...</td>\n",
       "      <td>[investments, Southeast Asia, VC, venture capi...</td>\n",
       "      <td>[]</td>\n",
       "      <td>False</td>\n",
       "      <td>None</td>\n",
       "      <td>False</td>\n",
       "      <td>True</td>\n",
       "      <td>True</td>\n",
       "      <td>True</td>\n",
       "      <td>False</td>\n",
       "      <td>4</td>\n",
       "    </tr>\n",
       "    <tr>\n",
       "      <th>898</th>\n",
       "      <td>724737</td>\n",
       "      <td>2021-12-14T04:07:02</td>\n",
       "      <td>2021-12-14T04:07:02</td>\n",
       "      <td>Zoomcar to pump $25m into Philippine launch</td>\n",
       "      <td>zoomcar-pump-25m-philippine-launch</td>\n",
       "      <td>publish</td>\n",
       "      <td>post</td>\n",
       "      <td>https://www.techinasia.com/zoomcar-pump-25m-ph...</td>\n",
       "      <td>Zoomcar, an India-based car rental startup, ha...</td>\n",
       "      <td>[]</td>\n",
       "      <td>...</td>\n",
       "      <td>[car rentals, Gene Angelo Ferrer, online car r...</td>\n",
       "      <td>[]</td>\n",
       "      <td>False</td>\n",
       "      <td>None</td>\n",
       "      <td>False</td>\n",
       "      <td>True</td>\n",
       "      <td>False</td>\n",
       "      <td>True</td>\n",
       "      <td>False</td>\n",
       "      <td>2</td>\n",
       "    </tr>\n",
       "    <tr>\n",
       "      <th>899</th>\n",
       "      <td>724732</td>\n",
       "      <td>2021-12-14T03:14:37</td>\n",
       "      <td>2021-12-14T03:14:37</td>\n",
       "      <td>East Ventures leads pre-series A round of supp...</td>\n",
       "      <td>praktis-pre-series-a-funding</td>\n",
       "      <td>publish</td>\n",
       "      <td>post</td>\n",
       "      <td>https://www.techinasia.com/praktis-pre-series-...</td>\n",
       "      <td>Praktis (previously known as PTS.sc), an Indon...</td>\n",
       "      <td>[]</td>\n",
       "      <td>...</td>\n",
       "      <td>[Adrian Gilrandy, Dhimas Syahendra, Dipta Iman...</td>\n",
       "      <td>[]</td>\n",
       "      <td>False</td>\n",
       "      <td>None</td>\n",
       "      <td>False</td>\n",
       "      <td>True</td>\n",
       "      <td>False</td>\n",
       "      <td>True</td>\n",
       "      <td>False</td>\n",
       "      <td>1</td>\n",
       "    </tr>\n",
       "  </tbody>\n",
       "</table>\n",
       "<p>5 rows × 30 columns</p>\n",
       "</div>"
      ],
      "text/plain": [
       "         id             date_gmt         modified_gmt  \\\n",
       "895  724749  2021-12-14T05:19:21  2021-12-14T05:19:21   \n",
       "896  724745  2021-12-14T05:05:48  2021-12-15T11:10:42   \n",
       "897  724633  2021-12-14T05:00:48  2021-12-13T12:54:19   \n",
       "898  724737  2021-12-14T04:07:02  2021-12-14T04:07:02   \n",
       "899  724732  2021-12-14T03:14:37  2021-12-14T03:14:37   \n",
       "\n",
       "                                                 title  \\\n",
       "895        Fomo Pay to join DBS Bank’s crypto exchange   \n",
       "896  Carousell HK, Atome, GoGoX join hands to serve...   \n",
       "897  The hidden alliances between SEA’s VCs, uncove...   \n",
       "898        Zoomcar to pump $25m into Philippine launch   \n",
       "899  East Ventures leads pre-series A round of supp...   \n",
       "\n",
       "                                                  slug   status          type  \\\n",
       "895  sg-fintech-firm-fomo-pay-joins-dbs-banks-crypt...  publish          post   \n",
       "896          carousell-gogox-atome-join-hands-caroubiz  publish          post   \n",
       "897   hidden-alliances-seas-vcs-uncovered-2021-edition  publish  visual-story   \n",
       "898                 zoomcar-pump-25m-philippine-launch  publish          post   \n",
       "899                       praktis-pre-series-a-funding  publish          post   \n",
       "\n",
       "                                                  link  \\\n",
       "895  https://www.techinasia.com/sg-fintech-firm-fom...   \n",
       "896  https://www.techinasia.com/carousell-gogox-ato...   \n",
       "897  https://www.techinasia.com/visual-story/hidden...   \n",
       "898  https://www.techinasia.com/zoomcar-pump-25m-ph...   \n",
       "899  https://www.techinasia.com/praktis-pre-series-...   \n",
       "\n",
       "                                               content  \\\n",
       "895  Singapore-based payment firm Fomo Pay is joini...   \n",
       "896  The Hong Kong unit of Carousell, the Singapore...   \n",
       "897  You can view the actual number of co-investmen...   \n",
       "898  Zoomcar, an India-based car rental startup, ha...   \n",
       "899  Praktis (previously known as PTS.sc), an Indon...   \n",
       "\n",
       "                                               vsitems  ...  \\\n",
       "895                                                 []  ...   \n",
       "896                                                 []  ...   \n",
       "897  [<p><iframe style=\"width: 100%; height: 1350px...  ...   \n",
       "898                                                 []  ...   \n",
       "899                                                 []  ...   \n",
       "\n",
       "                                                  tags companies is_sponsored  \\\n",
       "895  [crypto currency, crypto exchange, DBS, dbs ba...        []        False   \n",
       "896  [Atome, BNPL, CarouBiz, Carousell, Ecommerce, ...        []        False   \n",
       "897  [investments, Southeast Asia, VC, venture capi...        []        False   \n",
       "898  [car rentals, Gene Angelo Ferrer, online car r...        []        False   \n",
       "899  [Adrian Gilrandy, Dhimas Syahendra, Dipta Iman...        []        False   \n",
       "\n",
       "    sponsor_name  is_partnership show_ads is_subscriber_exclusive  \\\n",
       "895         None           False     True                   False   \n",
       "896         None           False     True                   False   \n",
       "897         None           False     True                    True   \n",
       "898         None           False     True                   False   \n",
       "899         None           False     True                   False   \n",
       "\n",
       "     is_paywalled is_inappbrowser read_time  \n",
       "895          True           False         1  \n",
       "896          True           False         1  \n",
       "897          True           False         4  \n",
       "898          True           False         2  \n",
       "899          True           False         1  \n",
       "\n",
       "[5 rows x 30 columns]"
      ]
     },
     "execution_count": 7,
     "metadata": {},
     "output_type": "execute_result"
    }
   ],
   "source": [
    "df = get_data(url=base_url, params=params, headers=headers)\n",
    "df.tail()"
   ]
  },
  {
   "cell_type": "code",
   "execution_count": 8,
   "id": "ed54fd24",
   "metadata": {},
   "outputs": [
    {
     "data": {
      "text/plain": [
       "Index(['id', 'date_gmt', 'modified_gmt', 'title', 'slug', 'status', 'type',\n",
       "       'link', 'content', 'vsitems', 'live_items', 'excerpt', 'author_id',\n",
       "       'author_name', 'author_is_staff', 'editor', 'comment_status',\n",
       "       'comments_count', 'comments', 'categories', 'tags', 'companies',\n",
       "       'is_sponsored', 'sponsor_name', 'is_partnership', 'show_ads',\n",
       "       'is_subscriber_exclusive', 'is_paywalled', 'is_inappbrowser',\n",
       "       'read_time'],\n",
       "      dtype='object')"
      ]
     },
     "execution_count": 8,
     "metadata": {},
     "output_type": "execute_result"
    }
   ],
   "source": [
    "df.columns"
   ]
  },
  {
   "cell_type": "code",
   "execution_count": 9,
   "id": "f38b0cee",
   "metadata": {},
   "outputs": [],
   "source": [
    "# Dropping columns that only containing a single value, fully null, and redundant columns.\n",
    "to_drop = [\n",
    "    'status',\n",
    "    'link',\n",
    "    'vsitems',\n",
    "    'live_items',\n",
    "    'comment_status',\n",
    "    'comments',\n",
    "    'companies',\n",
    "    'is_partnership'\n",
    "]"
   ]
  },
  {
   "cell_type": "code",
   "execution_count": 10,
   "id": "58e8343a",
   "metadata": {},
   "outputs": [],
   "source": [
    "df.drop(to_drop, axis=1, inplace=True)"
   ]
  },
  {
   "cell_type": "code",
   "execution_count": 11,
   "id": "5f6bd212",
   "metadata": {},
   "outputs": [],
   "source": [
    "df.to_csv('tia_posts.csv', index=False)"
   ]
  }
 ],
 "metadata": {
  "kernelspec": {
   "display_name": "Python [conda env:jcopdl]",
   "language": "python",
   "name": "conda-env-jcopdl-py"
  },
  "language_info": {
   "codemirror_mode": {
    "name": "ipython",
    "version": 3
   },
   "file_extension": ".py",
   "mimetype": "text/x-python",
   "name": "python",
   "nbconvert_exporter": "python",
   "pygments_lexer": "ipython3",
   "version": "3.7.6"
  },
  "varInspector": {
   "cols": {
    "lenName": 16,
    "lenType": 16,
    "lenVar": 40
   },
   "kernels_config": {
    "python": {
     "delete_cmd_postfix": "",
     "delete_cmd_prefix": "del ",
     "library": "var_list.py",
     "varRefreshCmd": "print(var_dic_list())"
    },
    "r": {
     "delete_cmd_postfix": ") ",
     "delete_cmd_prefix": "rm(",
     "library": "var_list.r",
     "varRefreshCmd": "cat(var_dic_list()) "
    }
   },
   "types_to_exclude": [
    "module",
    "function",
    "builtin_function_or_method",
    "instance",
    "_Feature"
   ],
   "window_display": false
  }
 },
 "nbformat": 4,
 "nbformat_minor": 5
}
