{
 "cells": [
  {
   "cell_type": "code",
   "execution_count": 1,
   "id": "99d00bc8",
   "metadata": {},
   "outputs": [],
   "source": [
    "import pandas as pd\n",
    "from tia import *"
   ]
  },
  {
   "cell_type": "code",
   "execution_count": 2,
   "id": "47198ea8",
   "metadata": {},
   "outputs": [],
   "source": [
    "base_url = 'https://www.techinasia.com/wp-json/techinasia/2.0/posts?'\n",
    "headers = {'User-Agent': 'Mozilla/5.0 (Windows NT 10.0; Win64; x64) AppleWebKit/537.36 (KHTML, like Gecko) Chrome/98.0.4758.102 Safari/537.36'}\n",
    "params = 'page='"
   ]
  },
  {
   "cell_type": "code",
   "execution_count": 3,
   "id": "52701bc0",
   "metadata": {},
   "outputs": [
    {
     "data": {
      "text/plain": [
       "dict_keys(['total', 'per_page', 'current_page', 'total_pages', 'posts'])"
      ]
     },
     "execution_count": 3,
     "metadata": {},
     "output_type": "execute_result"
    }
   ],
   "source": [
    "main_req = requests.get(url=base_url, headers=headers)\n",
    "main_json = main_req.json()\n",
    "main_json.keys()"
   ]
  },
  {
   "cell_type": "code",
   "execution_count": 4,
   "id": "ca946a2a",
   "metadata": {
    "scrolled": true
   },
   "outputs": [
    {
     "data": {
      "text/plain": [
       "dict_keys(['id', 'date_gmt', 'modified_gmt', 'title', 'slug', 'status', 'type', 'link', 'content', 'vsitems', 'live_items', 'excerpt', 'author', 'editor', 'comment_status', 'comments_count', 'comments', 'featured_image', 'post_images', 'seo', 'categories', 'tags', 'companies', 'is_sponsored', 'sponsor', 'is_partnership', 'external_scripts', 'show_ads', 'is_subscriber_exclusive', 'is_paywalled', 'is_inappbrowser', 'read_time'])"
      ]
     },
     "execution_count": 4,
     "metadata": {},
     "output_type": "execute_result"
    }
   ],
   "source": [
    "main_json['posts'][0].keys()"
   ]
  },
  {
   "cell_type": "code",
   "execution_count": 5,
   "id": "b99c283e",
   "metadata": {
    "scrolled": true
   },
   "outputs": [
    {
     "name": "stdout",
     "output_type": "stream",
     "text": [
      "Page: 30/30\r"
     ]
    },
    {
     "data": {
      "text/html": [
       "<div>\n",
       "<style scoped>\n",
       "    .dataframe tbody tr th:only-of-type {\n",
       "        vertical-align: middle;\n",
       "    }\n",
       "\n",
       "    .dataframe tbody tr th {\n",
       "        vertical-align: top;\n",
       "    }\n",
       "\n",
       "    .dataframe thead th {\n",
       "        text-align: right;\n",
       "    }\n",
       "</style>\n",
       "<table border=\"1\" class=\"dataframe\">\n",
       "  <thead>\n",
       "    <tr style=\"text-align: right;\">\n",
       "      <th></th>\n",
       "      <th>id</th>\n",
       "      <th>date_gmt</th>\n",
       "      <th>modified_gmt</th>\n",
       "      <th>title</th>\n",
       "      <th>slug</th>\n",
       "      <th>status</th>\n",
       "      <th>type</th>\n",
       "      <th>link</th>\n",
       "      <th>content</th>\n",
       "      <th>vsitems</th>\n",
       "      <th>...</th>\n",
       "      <th>tags</th>\n",
       "      <th>companies</th>\n",
       "      <th>is_sponsored</th>\n",
       "      <th>sponsor_name</th>\n",
       "      <th>is_partnership</th>\n",
       "      <th>show_ads</th>\n",
       "      <th>is_subscriber_exclusive</th>\n",
       "      <th>is_paywalled</th>\n",
       "      <th>is_inappbrowser</th>\n",
       "      <th>read_time</th>\n",
       "    </tr>\n",
       "  </thead>\n",
       "  <tbody>\n",
       "    <tr>\n",
       "      <th>895</th>\n",
       "      <td>725009</td>\n",
       "      <td>2021-12-15T07:35:38</td>\n",
       "      <td>2021-12-15T07:35:38</td>\n",
       "      <td>Foodpanda, HungryPanda brawl over trademark di...</td>\n",
       "      <td>foodpanda-hungrypanda-brawl-trademark-dispute</td>\n",
       "      <td>publish</td>\n",
       "      <td>post</td>\n",
       "      <td>https://www.techinasia.com/foodpanda-hungrypan...</td>\n",
       "      <td>Foodpanda, one of the largest food delivery st...</td>\n",
       "      <td>[]</td>\n",
       "      <td>...</td>\n",
       "      <td>[briefing, food delivery, foodpanda, hungrypan...</td>\n",
       "      <td>[]</td>\n",
       "      <td>False</td>\n",
       "      <td>None</td>\n",
       "      <td>False</td>\n",
       "      <td>True</td>\n",
       "      <td>False</td>\n",
       "      <td>True</td>\n",
       "      <td>False</td>\n",
       "      <td>1</td>\n",
       "    </tr>\n",
       "    <tr>\n",
       "      <th>896</th>\n",
       "      <td>724869</td>\n",
       "      <td>2021-12-15T07:00:36</td>\n",
       "      <td>2021-12-14T13:07:41</td>\n",
       "      <td>The brewing battle between Amazon and Visa</td>\n",
       "      <td>brewing-battle-amazon-visa</td>\n",
       "      <td>publish</td>\n",
       "      <td>post</td>\n",
       "      <td>https://www.techinasia.com/brewing-battle-amaz...</td>\n",
       "      <td>Welcome to The Top Up! Delivered every Wednesd...</td>\n",
       "      <td>[]</td>\n",
       "      <td>...</td>\n",
       "      <td>[Amazon, digital bank, digital banking, fintec...</td>\n",
       "      <td>[]</td>\n",
       "      <td>False</td>\n",
       "      <td>None</td>\n",
       "      <td>False</td>\n",
       "      <td>True</td>\n",
       "      <td>False</td>\n",
       "      <td>True</td>\n",
       "      <td>False</td>\n",
       "      <td>5</td>\n",
       "    </tr>\n",
       "    <tr>\n",
       "      <th>897</th>\n",
       "      <td>724934</td>\n",
       "      <td>2021-12-15T06:35:38</td>\n",
       "      <td>2021-12-15T06:35:38</td>\n",
       "      <td>Byju’s unit eyes 1 million paid users as it ge...</td>\n",
       "      <td>byjus-unit-eyes-1-million-paid-users-gears-acq...</td>\n",
       "      <td>publish</td>\n",
       "      <td>post</td>\n",
       "      <td>https://www.techinasia.com/byjus-unit-eyes-1-m...</td>\n",
       "      <td>Great Learning, a Singapore-based professional...</td>\n",
       "      <td>[]</td>\n",
       "      <td>...</td>\n",
       "      <td>[byju’s, edtech, Great Learning, higher educat...</td>\n",
       "      <td>[]</td>\n",
       "      <td>False</td>\n",
       "      <td>None</td>\n",
       "      <td>False</td>\n",
       "      <td>True</td>\n",
       "      <td>False</td>\n",
       "      <td>True</td>\n",
       "      <td>False</td>\n",
       "      <td>2</td>\n",
       "    </tr>\n",
       "    <tr>\n",
       "      <th>898</th>\n",
       "      <td>725011</td>\n",
       "      <td>2021-12-15T06:08:34</td>\n",
       "      <td>2021-12-15T06:08:34</td>\n",
       "      <td>Uber plans to sell its stake in Didi</td>\n",
       "      <td>uber-plans-sell-stake-didi</td>\n",
       "      <td>publish</td>\n",
       "      <td>post</td>\n",
       "      <td>https://www.techinasia.com/uber-plans-sell-sta...</td>\n",
       "      <td>Uber CEO Dara Khosrowshahi has said that the c...</td>\n",
       "      <td>[]</td>\n",
       "      <td>...</td>\n",
       "      <td>[briefing, China, Didi, Didi Chuxing, ride-hai...</td>\n",
       "      <td>[]</td>\n",
       "      <td>False</td>\n",
       "      <td>None</td>\n",
       "      <td>False</td>\n",
       "      <td>True</td>\n",
       "      <td>False</td>\n",
       "      <td>True</td>\n",
       "      <td>False</td>\n",
       "      <td>1</td>\n",
       "    </tr>\n",
       "    <tr>\n",
       "      <th>899</th>\n",
       "      <td>724887</td>\n",
       "      <td>2021-12-15T05:40:51</td>\n",
       "      <td>2021-12-17T04:54:04</td>\n",
       "      <td>Ex-Grab execs create pill to cure hangovers in...</td>\n",
       "      <td>exgrab-execs-create-pill-cure-hangovers-asia</td>\n",
       "      <td>publish</td>\n",
       "      <td>post</td>\n",
       "      <td>https://www.techinasia.com/exgrab-execs-create...</td>\n",
       "      <td>The effects of a hangover appear quite early i...</td>\n",
       "      <td>[]</td>\n",
       "      <td>...</td>\n",
       "      <td>[Asia, bounceback, Grab, hangover pill, health...</td>\n",
       "      <td>[]</td>\n",
       "      <td>False</td>\n",
       "      <td>None</td>\n",
       "      <td>False</td>\n",
       "      <td>True</td>\n",
       "      <td>False</td>\n",
       "      <td>True</td>\n",
       "      <td>False</td>\n",
       "      <td>4</td>\n",
       "    </tr>\n",
       "  </tbody>\n",
       "</table>\n",
       "<p>5 rows × 30 columns</p>\n",
       "</div>"
      ],
      "text/plain": [
       "         id             date_gmt         modified_gmt  \\\n",
       "895  725009  2021-12-15T07:35:38  2021-12-15T07:35:38   \n",
       "896  724869  2021-12-15T07:00:36  2021-12-14T13:07:41   \n",
       "897  724934  2021-12-15T06:35:38  2021-12-15T06:35:38   \n",
       "898  725011  2021-12-15T06:08:34  2021-12-15T06:08:34   \n",
       "899  724887  2021-12-15T05:40:51  2021-12-17T04:54:04   \n",
       "\n",
       "                                                 title  \\\n",
       "895  Foodpanda, HungryPanda brawl over trademark di...   \n",
       "896         The brewing battle between Amazon and Visa   \n",
       "897  Byju’s unit eyes 1 million paid users as it ge...   \n",
       "898               Uber plans to sell its stake in Didi   \n",
       "899  Ex-Grab execs create pill to cure hangovers in...   \n",
       "\n",
       "                                                  slug   status  type  \\\n",
       "895      foodpanda-hungrypanda-brawl-trademark-dispute  publish  post   \n",
       "896                         brewing-battle-amazon-visa  publish  post   \n",
       "897  byjus-unit-eyes-1-million-paid-users-gears-acq...  publish  post   \n",
       "898                         uber-plans-sell-stake-didi  publish  post   \n",
       "899       exgrab-execs-create-pill-cure-hangovers-asia  publish  post   \n",
       "\n",
       "                                                  link  \\\n",
       "895  https://www.techinasia.com/foodpanda-hungrypan...   \n",
       "896  https://www.techinasia.com/brewing-battle-amaz...   \n",
       "897  https://www.techinasia.com/byjus-unit-eyes-1-m...   \n",
       "898  https://www.techinasia.com/uber-plans-sell-sta...   \n",
       "899  https://www.techinasia.com/exgrab-execs-create...   \n",
       "\n",
       "                                               content vsitems  ...  \\\n",
       "895  Foodpanda, one of the largest food delivery st...      []  ...   \n",
       "896  Welcome to The Top Up! Delivered every Wednesd...      []  ...   \n",
       "897  Great Learning, a Singapore-based professional...      []  ...   \n",
       "898  Uber CEO Dara Khosrowshahi has said that the c...      []  ...   \n",
       "899  The effects of a hangover appear quite early i...      []  ...   \n",
       "\n",
       "                                                  tags companies is_sponsored  \\\n",
       "895  [briefing, food delivery, foodpanda, hungrypan...        []        False   \n",
       "896  [Amazon, digital bank, digital banking, fintec...        []        False   \n",
       "897  [byju’s, edtech, Great Learning, higher educat...        []        False   \n",
       "898  [briefing, China, Didi, Didi Chuxing, ride-hai...        []        False   \n",
       "899  [Asia, bounceback, Grab, hangover pill, health...        []        False   \n",
       "\n",
       "    sponsor_name  is_partnership show_ads is_subscriber_exclusive  \\\n",
       "895         None           False     True                   False   \n",
       "896         None           False     True                   False   \n",
       "897         None           False     True                   False   \n",
       "898         None           False     True                   False   \n",
       "899         None           False     True                   False   \n",
       "\n",
       "     is_paywalled is_inappbrowser read_time  \n",
       "895          True           False         1  \n",
       "896          True           False         5  \n",
       "897          True           False         2  \n",
       "898          True           False         1  \n",
       "899          True           False         4  \n",
       "\n",
       "[5 rows x 30 columns]"
      ]
     },
     "execution_count": 5,
     "metadata": {},
     "output_type": "execute_result"
    }
   ],
   "source": [
    "df = get_data(url=base_url, params=params, headers=headers)\n",
    "df.tail()"
   ]
  },
  {
   "cell_type": "code",
   "execution_count": 6,
   "id": "ed54fd24",
   "metadata": {},
   "outputs": [
    {
     "data": {
      "text/plain": [
       "Index(['id', 'date_gmt', 'modified_gmt', 'title', 'slug', 'status', 'type',\n",
       "       'link', 'content', 'vsitems', 'live_items', 'excerpt', 'author_id',\n",
       "       'author_name', 'author_is_staff', 'editor', 'comment_status',\n",
       "       'comments_count', 'comments', 'categories', 'tags', 'companies',\n",
       "       'is_sponsored', 'sponsor_name', 'is_partnership', 'show_ads',\n",
       "       'is_subscriber_exclusive', 'is_paywalled', 'is_inappbrowser',\n",
       "       'read_time'],\n",
       "      dtype='object')"
      ]
     },
     "execution_count": 6,
     "metadata": {},
     "output_type": "execute_result"
    }
   ],
   "source": [
    "df.columns"
   ]
  },
  {
   "cell_type": "code",
   "execution_count": 7,
   "id": "f38b0cee",
   "metadata": {},
   "outputs": [],
   "source": [
    "# Dropping columns that only containing a single value, fully null, and redundant columns.\n",
    "to_drop = [\n",
    "    'modified_gmt',\n",
    "    'status',\n",
    "    'link',\n",
    "    'vsitems',\n",
    "    'live_items',\n",
    "    'comment_status',\n",
    "    'comments',\n",
    "    'companies',\n",
    "    'is_partnership'\n",
    "]"
   ]
  },
  {
   "cell_type": "code",
   "execution_count": 8,
   "id": "58e8343a",
   "metadata": {},
   "outputs": [],
   "source": [
    "df.drop(to_drop, axis=1, inplace=True)"
   ]
  },
  {
   "cell_type": "code",
   "execution_count": 9,
   "id": "5f6bd212",
   "metadata": {},
   "outputs": [],
   "source": [
    "df.to_csv('tia_posts.csv', index=False)"
   ]
  }
 ],
 "metadata": {
  "kernelspec": {
   "display_name": "Python [conda env:jcopdl]",
   "language": "python",
   "name": "conda-env-jcopdl-py"
  },
  "language_info": {
   "codemirror_mode": {
    "name": "ipython",
    "version": 3
   },
   "file_extension": ".py",
   "mimetype": "text/x-python",
   "name": "python",
   "nbconvert_exporter": "python",
   "pygments_lexer": "ipython3",
   "version": "3.7.6"
  },
  "varInspector": {
   "cols": {
    "lenName": 16,
    "lenType": 16,
    "lenVar": 40
   },
   "kernels_config": {
    "python": {
     "delete_cmd_postfix": "",
     "delete_cmd_prefix": "del ",
     "library": "var_list.py",
     "varRefreshCmd": "print(var_dic_list())"
    },
    "r": {
     "delete_cmd_postfix": ") ",
     "delete_cmd_prefix": "rm(",
     "library": "var_list.r",
     "varRefreshCmd": "cat(var_dic_list()) "
    }
   },
   "types_to_exclude": [
    "module",
    "function",
    "builtin_function_or_method",
    "instance",
    "_Feature"
   ],
   "window_display": false
  }
 },
 "nbformat": 4,
 "nbformat_minor": 5
}
